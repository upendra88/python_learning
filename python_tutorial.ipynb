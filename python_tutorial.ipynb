{
  "nbformat": 4,
  "nbformat_minor": 0,
  "metadata": {
    "colab": {
      "provenance": [],
      "authorship_tag": "ABX9TyPEeWPte8Ez1IN8L+2reL05",
      "include_colab_link": true
    },
    "kernelspec": {
      "name": "python3",
      "display_name": "Python 3"
    },
    "language_info": {
      "name": "python"
    }
  },
  "cells": [
    {
      "cell_type": "markdown",
      "metadata": {
        "id": "view-in-github",
        "colab_type": "text"
      },
      "source": [
        "<a href=\"https://colab.research.google.com/github/upendra88/python_learning/blob/main/python_tutorial.ipynb\" target=\"_parent\"><img src=\"https://colab.research.google.com/assets/colab-badge.svg\" alt=\"Open In Colab\"/></a>"
      ]
    },
    {
      "cell_type": "code",
      "source": [
        "# prompt: write a lambda function that accepts list as an argument\n",
        "\n",
        "my_lambda = lambda x: x[0]\n"
      ],
      "metadata": {
        "colab": {
          "base_uri": "https://localhost:8080/"
        },
        "id": "wFo1RlQA-b35",
        "outputId": "85fc5913-d2c8-4cf0-f742-e9fb53f46368"
      },
      "execution_count": null,
      "outputs": [
        {
          "output_type": "execute_result",
          "data": {
            "text/plain": [
              "<function __main__.<lambda>(x)>"
            ]
          },
          "metadata": {},
          "execution_count": 3
        }
      ]
    },
    {
      "cell_type": "code",
      "source": [
        "fibonacci = lambda n: [0] if n==1 else [0,1] if n == 2 else fibonacci(n-1) + [fibonacci(n-1)[-1] + fibonacci(n-1)[-2]]\n",
        "print(fibonacci(10))"
      ],
      "metadata": {
        "colab": {
          "base_uri": "https://localhost:8080/"
        },
        "id": "ICEkDoP-EMr0",
        "outputId": "5b6d452a-0fe7-472a-cbc8-a8bba6c24e72"
      },
      "execution_count": null,
      "outputs": [
        {
          "output_type": "stream",
          "name": "stdout",
          "text": [
            "[0, 1, 1, 2, 3, 5, 8, 13, 21, 34]\n"
          ]
        }
      ]
    },
    {
      "cell_type": "code",
      "source": [
        "n = input(\"Enter any number to check if it is prime or not\")\n",
        "count =0\n",
        "num = int(n)\n",
        "if(num == 0):\n",
        "  print(\"Please enter any number other than 0\")\n",
        "for i in range(1,num):\n",
        "  if(i != 1 and i != num):\n",
        "    if(num%i == 0):\n",
        "      print(f\"evaluating for {i}\")\n",
        "      count = count+1\n",
        "\n",
        "if (count == 0):\n",
        "  print(f\"number {n} is prime\")\n",
        "else:\n",
        "  print(f\"number {n} is not prime\")\n",
        "\n"
      ],
      "metadata": {
        "colab": {
          "base_uri": "https://localhost:8080/"
        },
        "id": "4TCOfGwbuO0C",
        "outputId": "8e6147f4-d3ea-4418-d2cd-a02b01921c23"
      },
      "execution_count": 23,
      "outputs": [
        {
          "output_type": "stream",
          "name": "stdout",
          "text": [
            "Enter any number to check if it is prime or not2\n",
            "number 2 is prime\n"
          ]
        }
      ]
    },
    {
      "cell_type": "code",
      "source": [
        "prime = lambda num:"
      ],
      "metadata": {
        "id": "Zz016ihk4KKq"
      },
      "execution_count": null,
      "outputs": []
    }
  ]
}
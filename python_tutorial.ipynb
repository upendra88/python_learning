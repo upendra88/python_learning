{
  "nbformat": 4,
  "nbformat_minor": 0,
  "metadata": {
    "colab": {
      "provenance": [],
      "authorship_tag": "ABX9TyN5J4vfHiEWKJu3iX7pAdgK",
      "include_colab_link": true
    },
    "kernelspec": {
      "name": "python3",
      "display_name": "Python 3"
    },
    "language_info": {
      "name": "python"
    }
  },
  "cells": [
    {
      "cell_type": "markdown",
      "metadata": {
        "id": "view-in-github",
        "colab_type": "text"
      },
      "source": [
        "<a href=\"https://colab.research.google.com/github/upendra88/python_learning/blob/main/python_tutorial.ipynb\" target=\"_parent\"><img src=\"https://colab.research.google.com/assets/colab-badge.svg\" alt=\"Open In Colab\"/></a>"
      ]
    },
    {
      "cell_type": "code",
      "execution_count": 1,
      "metadata": {
        "id": "o_tUX75G7Tts",
        "colab": {
          "base_uri": "https://localhost:8080/"
        },
        "outputId": "a5b18ab1-6def-48b3-d488-b3672c4f39a9"
      },
      "outputs": [
        {
          "output_type": "stream",
          "name": "stdout",
          "text": [
            "2\n",
            "3\n",
            "5\n",
            "7\n",
            "11\n",
            "13\n",
            "17\n",
            "19\n",
            "23\n",
            "29\n",
            "31\n",
            "37\n",
            "41\n",
            "43\n",
            "47\n",
            "53\n",
            "59\n",
            "61\n",
            "67\n",
            "71\n",
            "73\n",
            "79\n",
            "83\n",
            "89\n",
            "97\n"
          ]
        }
      ],
      "source": [
        "# prompt: print all prime numbers upto 100\n",
        "\n",
        "def is_prime(n):\n",
        "  \"\"\"\n",
        "  Check if a number is prime.\n",
        "  \"\"\"\n",
        "  if n <= 1:\n",
        "    return False\n",
        "  elif n <= 3:\n",
        "    return True\n",
        "  elif n % 2 == 0 or n % 3 == 0:\n",
        "    return False\n",
        "  i = 5\n",
        "  while i * i <= n:\n",
        "    if n % i == 0 or n % (i + 2) == 0:\n",
        "      return False\n",
        "    i += 6\n",
        "  return True\n",
        "\n",
        "for i in range(1, 101):\n",
        "  if is_prime(i):\n",
        "    print(i)\n"
      ]
    }
  ]
}
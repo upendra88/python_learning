{
  "nbformat": 4,
  "nbformat_minor": 0,
  "metadata": {
    "colab": {
      "provenance": [],
      "authorship_tag": "ABX9TyNX4TqeXPQFgM7tr4W+nwR0",
      "include_colab_link": true
    },
    "kernelspec": {
      "name": "python3",
      "display_name": "Python 3"
    },
    "language_info": {
      "name": "python"
    }
  },
  "cells": [
    {
      "cell_type": "markdown",
      "metadata": {
        "id": "view-in-github",
        "colab_type": "text"
      },
      "source": [
        "<a href=\"https://colab.research.google.com/github/upendra88/python_learning/blob/main/python_tutorial.ipynb\" target=\"_parent\"><img src=\"https://colab.research.google.com/assets/colab-badge.svg\" alt=\"Open In Colab\"/></a>"
      ]
    },
    {
      "cell_type": "code",
      "execution_count": null,
      "metadata": {
        "id": "o_tUX75G7Tts"
      },
      "outputs": [],
      "source": [
        "# prompt: make a list in python with countries name and sort it alphbetically\n",
        "\n",
        "countries = ['USA', 'India', 'Mexico', 'Canada', 'Brazil', 'Argentina']\n",
        "countries.sort()\n",
        "print(countries)\n"
      ]
    }
  ]
}